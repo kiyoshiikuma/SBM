{
 "cells": [
  {
   "cell_type": "markdown",
   "metadata": {},
   "source": [
    "# Map-based simulation for differential pointing\n",
    "\n",
    "## Here, we introduce how to assess differential pointing systematics by the map-based simulation in the case of a single detector on the boresight.\n"
   ]
  },
  {
   "cell_type": "code",
   "execution_count": 1,
   "metadata": {},
   "outputs": [
    {
     "ename": "ImportError",
     "evalue": "cannot import name 'plot_maps' from 'sbm.scan_fields' (/gpfs/home/cmb/yusuket/program/map-make/SBMs/master/SBM/sbm/scan_fields.py)",
     "output_type": "error",
     "traceback": [
      "\u001b[0;31m---------------------------------------------------------------------------\u001b[0m",
      "\u001b[0;31mImportError\u001b[0m                               Traceback (most recent call last)",
      "Cell \u001b[0;32mIn[1], line 6\u001b[0m\n\u001b[1;32m      4\u001b[0m \u001b[38;5;28;01mimport\u001b[39;00m \u001b[38;5;21;01mhealpy\u001b[39;00m \u001b[38;5;28;01mas\u001b[39;00m \u001b[38;5;21;01mhp\u001b[39;00m\n\u001b[1;32m      5\u001b[0m \u001b[38;5;28;01mimport\u001b[39;00m \u001b[38;5;21;01mmatplotlib\u001b[39;00m\u001b[38;5;21;01m.\u001b[39;00m\u001b[38;5;21;01mpyplot\u001b[39;00m \u001b[38;5;28;01mas\u001b[39;00m \u001b[38;5;21;01mplt\u001b[39;00m\n\u001b[0;32m----> 6\u001b[0m \u001b[38;5;28;01mfrom\u001b[39;00m \u001b[38;5;21;01msbm\u001b[39;00m \u001b[38;5;28;01mimport\u001b[39;00m Field, ScanFields, SignalFields, plot_maps\n",
      "File \u001b[0;32m/gpfs/home/cmb/yusuket/program/map-make/SBMs/master/SBM/sbm/__init__.py:3\u001b[0m\n\u001b[1;32m      1\u001b[0m \u001b[38;5;66;03m# -*- encoding: utf-8 -*-\u001b[39;00m\n\u001b[0;32m----> 3\u001b[0m \u001b[38;5;28;01mfrom\u001b[39;00m \u001b[38;5;21;01m.\u001b[39;00m\u001b[38;5;21;01mscan_fields\u001b[39;00m \u001b[38;5;28;01mimport\u001b[39;00m (\n\u001b[1;32m      4\u001b[0m     ScanFields,\n\u001b[1;32m      5\u001b[0m     plot_maps,\n\u001b[1;32m      6\u001b[0m     get_instrument_table,\n\u001b[1;32m      7\u001b[0m     DB_ROOT_PATH,\n\u001b[1;32m      8\u001b[0m     channel_list,\n\u001b[1;32m      9\u001b[0m     fwhms,\n\u001b[1;32m     10\u001b[0m )\n\u001b[1;32m     12\u001b[0m \u001b[38;5;28;01mfrom\u001b[39;00m \u001b[38;5;21;01m.\u001b[39;00m\u001b[38;5;21;01msignal_fields\u001b[39;00m \u001b[38;5;28;01mimport\u001b[39;00m (\n\u001b[1;32m     13\u001b[0m     Field,\n\u001b[1;32m     14\u001b[0m     SignalFields,\n\u001b[1;32m     15\u001b[0m )\n\u001b[1;32m     16\u001b[0m \u001b[38;5;28;01mfrom\u001b[39;00m \u001b[38;5;21;01m.\u001b[39;00m\u001b[38;5;21;01mpipelines\u001b[39;00m \u001b[38;5;28;01mimport\u001b[39;00m (\n\u001b[1;32m     17\u001b[0m     Configlation,\n\u001b[1;32m     18\u001b[0m     Systematics,\n\u001b[0;32m   (...)\u001b[0m\n\u001b[1;32m     22\u001b[0m     generate_maps,\n\u001b[1;32m     23\u001b[0m )\n",
      "\u001b[0;31mImportError\u001b[0m: cannot import name 'plot_maps' from 'sbm.scan_fields' (/gpfs/home/cmb/yusuket/program/map-make/SBMs/master/SBM/sbm/scan_fields.py)"
     ]
    }
   ],
   "source": [
    "%load_ext autoreload\n",
    "%autoreload 2\n",
    "import numpy as np\n",
    "import healpy as hp\n",
    "import matplotlib.pyplot as plt\n",
    "from sbm import Field, ScanFields, SignalFields, plot_maps"
   ]
  },
  {
   "cell_type": "markdown",
   "metadata": {},
   "source": [
    "# Load the cross-link on the boresight detector\n",
    "\n",
    "## Input map: CMB (r=0), Gaussian beam smoothing (1 deg for FWHM)\n"
   ]
  },
  {
   "cell_type": "code",
   "execution_count": 2,
   "metadata": {},
   "outputs": [],
   "source": [
    "# Load single detector map\n",
    "scan_field = ScanFields.load_det(\"boresight/boresight\")\n",
    "fiducial_map = hp.read_map(\"../maps/cmb_0000_nside_128_seed_33.fits\", field=(0,1,2)) * 1e6\n",
    "\n",
    "fwhm = np.deg2rad(1.0)\n",
    "input_map = hp.smoothing(fiducial_map, fwhm)\n",
    "nside = hp.npix2nside(len(input_map[0]))\n",
    "lmax = 3*nside-1\n",
    "bl = hp.gauss_beam(fwhm, lmax=lmax, pol=True)"
   ]
  },
  {
   "cell_type": "markdown",
   "metadata": {},
   "source": [
    "# Set a differential pointing parameter\n",
    "\n",
    "$\\rho$ (`rho`): a magnitude of pointing offset between detector A and B, which makes an orthogonal pair.\n",
    "\n",
    "$\\chi$ (`chi`): a pointing offset direction\n",
    "\n",
    "Here, we set $(\\rho, \\chi)=(1,0)$ arcmin differential pointing.\n"
   ]
  },
  {
   "cell_type": "code",
   "execution_count": 3,
   "metadata": {},
   "outputs": [],
   "source": [
    "I = input_map[0]\n",
    "P = input_map[1] + 1j*input_map[2]\n",
    "dI = hp.alm2map_der1(hp.map2alm(input_map[0]), nside=nside)\n",
    "dQ = hp.alm2map_der1(hp.map2alm(input_map[1]), nside=nside)\n",
    "dU = hp.alm2map_der1(hp.map2alm(input_map[2]), nside=nside)\n",
    "\n",
    "eth_I = dI[2] - dI[1]*1j\n",
    "eth_P = dQ[2] + dU[1] - (dQ[1] - dU[2])*1j\n",
    "o_eth_P = dQ[2] - dU[1] + 1j*(dQ[1] + dU[2])\n",
    "\n",
    "rho_T = np.deg2rad(1/60)\n",
    "rho_B = np.deg2rad(0)\n",
    "chi_T = np.deg2rad(0)\n",
    "chi_B = np.deg2rad(0)\n",
    "\n",
    "zeta   = rho_T * np.exp(1j*chi_T) - 1j*rho_B * np.exp(1j*chi_B)\n",
    "o_zeta = rho_T * np.exp(1j*chi_T) + 1j*rho_B * np.exp(1j*chi_B)\n",
    "\n",
    "spin_1_field  = Field(-1.0/4.0 * (zeta*eth_I + o_zeta.conj()*o_eth_P), spin_n=1, spin_m=0)\n",
    "spin_m1_field = spin_1_field.conj()\n",
    "spin_2_field  = Field(P/2.0, spin_n=2, spin_m=0)\n",
    "spin_m2_field = spin_2_field.conj()\n",
    "spin_3_field  = Field(-1.0/4.0 * o_zeta * eth_P, spin_n=3, spin_m=0)\n",
    "spin_m3_field = spin_3_field.conj()\n",
    "\n",
    "signal_field = SignalFields(\n",
    "    spin_1_field,\n",
    "    spin_m1_field,\n",
    "    spin_2_field,\n",
    "    spin_m2_field,\n",
    "    spin_3_field,\n",
    "    spin_m3_field,\n",
    ")"
   ]
  },
  {
   "cell_type": "markdown",
   "metadata": {},
   "source": [
    "# Couple the signal field with the scan field\n"
   ]
  },
  {
   "cell_type": "code",
   "execution_count": 4,
   "metadata": {},
   "outputs": [],
   "source": [
    "s_0 = signal_field.get_coupled_field(scan_field, spin_n_out=0, spin_m_out=0)\n",
    "sp2 = signal_field.get_coupled_field(scan_field, spin_n_out=2, spin_m_out=0)\n",
    "signal_field.coupled_fields = np.array([sp2/2.0, sp2.conj()/2.0])\n",
    "signal_field.spin_n_basis = [2,-2]\n",
    "signal_field.spin_m_basis = [0,0]"
   ]
  },
  {
   "cell_type": "markdown",
   "metadata": {},
   "source": [
    "# Solve the liner system\n",
    "\n",
    "Detailed discription coming soon...\n",
    "\n",
    "Here, we perform the map-making by 3x3 matrix.\n"
   ]
  },
  {
   "cell_type": "code",
   "execution_count": 14,
   "metadata": {},
   "outputs": [],
   "source": [
    "output_map = scan_field.map_make(signal_field, only_iqu=True)\n",
    "residual = input_map - output_map"
   ]
  },
  {
   "cell_type": "markdown",
   "metadata": {},
   "source": [
    "# Let's check the Input/Output/Residual maps\n",
    "\n",
    "Especially, we can see that the residual map (Q and U) which is reconstructed by 3x3 noise covariant matrix are contaminated by the systematics\n"
   ]
  },
  {
   "cell_type": "code",
   "execution_count": null,
   "metadata": {},
   "outputs": [],
   "source": [
    "hp.mollview(input_map[0], title=\"Input I\", sub=(3,3,1))\n",
    "hp.mollview(input_map[1], title=\"Input Q\", sub=(3,3,2))\n",
    "hp.mollview(input_map[2], title=\"Input U\", sub=(3,3,3))\n",
    "\n",
    "# SBM does not reconstruct I if `only_iqu`` is True\n",
    "hp.mollview(output_map[0], title=\"Output I\", sub=(3,3,4))\n",
    "hp.mollview(output_map[1], title=\"Output Q\", sub=(3,3,5))\n",
    "hp.mollview(output_map[2], title=\"Output U\", sub=(3,3,6))\n",
    "\n",
    "hp.mollview(residual[0], title=\"$\\Delta I$\", sub=(3,3,7))\n",
    "hp.mollview(residual[1], title=\"$\\Delta Q$\", sub=(3,3,8))\n",
    "hp.mollview(residual[2], title=\"$\\Delta U$\", sub=(3,3,9))"
   ]
  },
  {
   "cell_type": "markdown",
   "metadata": {},
   "source": [
    "# Let's check the power spectra\n",
    "\n",
    "The green line shows systematics power spectrum, i.e., $\\Delta C_\\ell^{BB}$, which is obtained by residual map.\n",
    "\n",
    "Althogh the green line is providing an exact solution which agrees with the binning map-making, we can perform an analitical estimation without doing the map-making.\n",
    "\n",
    "The red line $\\Delta C_{\\ell, Ana}^{BB}$ is simulated by\n",
    "\n",
    "$$\n",
    "\\Delta C_{\\ell, Ana}^{BB} = \\frac{1}{8}(\\langle|{}_{1}\\tilde{h}|^2\\rangle + \\langle|{}_{3}\\tilde{h}|^2\\rangle)~\\rho^2~\\ell^2~C_{\\ell}^{TT}\n",
    "$$\n",
    "\n",
    "where $\\langle|{}_{n}\\tilde{h}|^2\\rangle$ represents the entire sky average of the spin-n cross-link (See [C.G.R. Wallis et al.](https://arxiv.org/abs/1604.02290)).\n"
   ]
  },
  {
   "cell_type": "code",
   "execution_count": null,
   "metadata": {},
   "outputs": [],
   "source": [
    "fiducial_cl = hp.anafast(fiducial_map)\n",
    "res_cl = hp.anafast(residual)\n",
    "\n",
    "ell = np.arange(len(fiducial_cl[0]))\n",
    "xlink1_mean = np.mean(np.abs(scan_field.get_xlink(1,0))**2)\n",
    "xlink3_mean = np.mean(np.abs(scan_field.get_xlink(3,0))**2)\n",
    "\n",
    "ana = 1/8*(xlink1_mean + xlink3_mean) * fiducial_cl[0] * rho_T**2 * ell**2\n",
    "\n",
    "plt.plot(fiducial_cl[0], label=\"input TT\")\n",
    "plt.plot(fiducial_cl[2], label=\"input BB\")\n",
    "plt.plot(res_cl[2] / bl[:,2]**2, label=\"residual BB (Exact solution)\") # deconvolution\n",
    "plt.plot(ana, \"--\", label=\"analitical estimation\")\n",
    "plt.xlabel(\"$\\ell$\")\n",
    "plt.ylabel(\"$C_\\ell ~ [\\mu K^2]$\")\n",
    "plt.xscale(\"log\")\n",
    "plt.yscale(\"log\")\n",
    "plt.legend();"
   ]
  },
  {
   "cell_type": "markdown",
   "metadata": {},
   "source": [
    "# Mitigation method\n",
    "\n",
    "By chapturing $spin$-$\\pm$1 component, we can avoid to have tempereture-to-polarization leakage.\n",
    "TO do it, we expand the matrix size 2x2 to 5x5 as below\n"
   ]
  },
  {
   "cell_type": "code",
   "execution_count": 23,
   "metadata": {},
   "outputs": [],
   "source": [
    "mdim = 4\n",
    "signal_field = SignalFields.diff_pointing_field(\n",
    "    scan_field,\n",
    "    mdim,\n",
    "    rho_T,\n",
    "    rho_B,\n",
    "    chi_T,\n",
    "    chi_B,\n",
    "    P,\n",
    "    eth_I,\n",
    "    eth_P,\n",
    "    o_eth_P,\n",
    ")\n",
    "output_map = scan_field.map_make(signal_field)\n",
    "residual = input_map - output_map"
   ]
  },
  {
   "cell_type": "code",
   "execution_count": null,
   "metadata": {},
   "outputs": [],
   "source": [
    "hp.mollview(input_map[0], title=\"Input I\", sub=(3,3,1))\n",
    "hp.mollview(input_map[1], title=\"Input Q\", sub=(3,3,2))\n",
    "hp.mollview(input_map[2], title=\"Input U\", sub=(3,3,3))\n",
    "\n",
    "# SBM does not reconstruct I if `only_iqu`` is True\n",
    "hp.mollview(output_map[0], title=\"Output I\", sub=(3,3,4))\n",
    "hp.mollview(output_map[1], title=\"Output Q\", sub=(3,3,5))\n",
    "hp.mollview(output_map[2], title=\"Output U\", sub=(3,3,6))\n",
    "\n",
    "hp.mollview(residual[0], title=\"$\\Delta I$\", sub=(3,3,7))\n",
    "hp.mollview(residual[1], title=\"$\\Delta Q$\", sub=(3,3,8))\n",
    "hp.mollview(residual[2], title=\"$\\Delta U$\", sub=(3,3,9))"
   ]
  },
  {
   "cell_type": "code",
   "execution_count": null,
   "metadata": {},
   "outputs": [],
   "source": [
    "fiducial_cl = hp.anafast(fiducial_map)\n",
    "res_cl = hp.anafast(residual)\n",
    "\n",
    "ell = np.arange(len(fiducial_cl[0]))\n",
    "xlink1_mean = np.mean(np.abs(scan_field.get_xlink(1,0))**2)\n",
    "xlink3_mean = np.mean(np.abs(scan_field.get_xlink(3,0))**2)\n",
    "\n",
    "ana = (xlink1_mean + xlink3_mean) * fiducial_cl[1] * rho_T**2 * ell**2\n",
    "\n",
    "plt.plot(fiducial_cl[0], label=\"input TT\")\n",
    "plt.plot(fiducial_cl[2], label=\"input BB\")\n",
    "plt.plot(res_cl[2] / bl[:,2]**2, label=\"residual BB (Exact solution)\") # deconvolution\n",
    "plt.plot(ana, \"--\", label=\"analitical estimation\")\n",
    "plt.xlabel(\"$\\ell$\")\n",
    "plt.ylabel(\"$C_\\ell ~ [\\mu K^2]$\")\n",
    "plt.xscale(\"log\")\n",
    "plt.yscale(\"log\")\n",
    "plt.legend();"
   ]
  }
 ],
 "metadata": {
  "kernelspec": {
   "display_name": "lbs13",
   "language": "python",
   "name": "python3"
  },
  "language_info": {
   "codemirror_mode": {
    "name": "ipython",
    "version": 3
   },
   "file_extension": ".py",
   "mimetype": "text/x-python",
   "name": "python",
   "nbconvert_exporter": "python",
   "pygments_lexer": "ipython3",
   "version": "3.10.14"
  }
 },
 "nbformat": 4,
 "nbformat_minor": 4
}
