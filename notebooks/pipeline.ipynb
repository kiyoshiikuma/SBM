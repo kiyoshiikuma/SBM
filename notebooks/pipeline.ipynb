{
 "cells": [
  {
   "cell_type": "code",
   "execution_count": 1,
   "metadata": {},
   "outputs": [],
   "source": [
    "%load_ext autoreload\n",
    "%autoreload 2\n",
    "import litebird_sim as lbs\n",
    "import numpy as np\n",
    "import healpy as hp\n",
    "import sbm\n",
    "import logging\n",
    "import toml\n",
    "from pathlib import Path\n",
    "logging.basicConfig(level=logging.WARNING);"
   ]
  },
  {
   "cell_type": "code",
   "execution_count": 2,
   "metadata": {},
   "outputs": [],
   "source": [
    "CONFIG_PATH = Path.home() / \".config\" / \"litebird_imo\"\n",
    "CONFIG_FILE_PATH = CONFIG_PATH / \"imo.toml\"\n",
    "tomlinfo = toml.load(CONFIG_FILE_PATH)\n",
    "flatfile_location = tomlinfo[\"repositories\"][0][\"location\"]\n",
    "\n",
    "imo = lbs.Imo(flatfile_location=flatfile_location)"
   ]
  },
  {
   "cell_type": "code",
   "execution_count": 3,
   "metadata": {},
   "outputs": [],
   "source": [
    "channel = sbm.channel_list[0]\n",
    "\n",
    "config = sbm.Configlation(imo, channel)\n",
    "config.mdim = 7\n",
    "config.parallel = True\n",
    "config.nside = 128\n",
    "\n",
    "syst = sbm.Systematics()\n",
    "syst.sigma_gain_T = 0.1\n",
    "syst.sigma_gain_B = 0.1\n",
    "\n",
    "syst.sigma_rho_T = np.deg2rad(1/60)\n",
    "syst.sigma_rho_B = 0.\n",
    "\n",
    "syst.sigma_chi_T = 0.\n",
    "syst.sigma_chi_B = 0."
   ]
  },
  {
   "cell_type": "markdown",
   "metadata": {},
   "source": [
    "Here, we will take a `N` realisations for CMB, systematics variations and noise.\n"
   ]
  },
  {
   "cell_type": "code",
   "execution_count": 4,
   "metadata": {},
   "outputs": [
    {
     "name": "stdout",
     "output_type": "stream",
     "text": [
      "CMB seed: 0 | Noise seed 0 | Syst. seed: 0\n"
     ]
    },
    {
     "name": "stderr",
     "output_type": "stream",
     "text": [
      "\u001b[92mProcessing L1-040\u001b[0m: 100%|\u001b[32m██████████\u001b[0m| 24/24 [00:03<00:00,  7.42it/s]\n",
      "\u001b[92mProcessing L1-040\u001b[0m: 100%|\u001b[32m██████████\u001b[0m| 24/24 [00:03<00:00,  6.79it/s]\n"
     ]
    },
    {
     "name": "stdout",
     "output_type": "stream",
     "text": [
      "CMB seed: 0 | Noise seed 0 | Syst. seed: 1\n"
     ]
    },
    {
     "name": "stderr",
     "output_type": "stream",
     "text": [
      "\u001b[92mProcessing L1-040\u001b[0m: 100%|\u001b[32m██████████\u001b[0m| 24/24 [00:03<00:00,  7.23it/s]\n",
      "\u001b[92mProcessing L1-040\u001b[0m: 100%|\u001b[32m██████████\u001b[0m| 24/24 [00:03<00:00,  7.55it/s]\n"
     ]
    },
    {
     "name": "stdout",
     "output_type": "stream",
     "text": [
      "CMB seed: 1 | Noise seed 1 | Syst. seed: 0\n"
     ]
    },
    {
     "name": "stderr",
     "output_type": "stream",
     "text": [
      "\u001b[92mProcessing L1-040\u001b[0m: 100%|\u001b[32m██████████\u001b[0m| 24/24 [00:03<00:00,  7.22it/s]\n",
      "\u001b[92mProcessing L1-040\u001b[0m: 100%|\u001b[32m██████████\u001b[0m| 24/24 [00:03<00:00,  7.54it/s]\n"
     ]
    },
    {
     "name": "stdout",
     "output_type": "stream",
     "text": [
      "CMB seed: 1 | Noise seed 1 | Syst. seed: 1\n"
     ]
    },
    {
     "name": "stderr",
     "output_type": "stream",
     "text": [
      "\u001b[92mProcessing L1-040\u001b[0m: 100%|\u001b[32m██████████\u001b[0m| 24/24 [00:03<00:00,  7.32it/s]\n",
      "\u001b[92mProcessing L1-040\u001b[0m: 100%|\u001b[32m██████████\u001b[0m| 24/24 [00:02<00:00,  8.14it/s]\n"
     ]
    }
   ],
   "source": [
    "N = 2 # number of realizations\n",
    "npix = hp.nside2npix(config.nside)\n",
    "gain_maps = np.zeros([N,N,3,npix])\n",
    "pointing_maps = np.zeros([N,N,3,npix])\n",
    "noise_maps = np.zeros([N,3,npix])\n",
    "fg_models = [\"pysm_dust_1\", \"pysm_synch_1\"]\n",
    "\n",
    "for i in range(N):\n",
    "    Mbsparams = lbs.MbsParameters(\n",
    "        make_cmb=True,\n",
    "        cmb_r=0.001,\n",
    "        make_fg=True,\n",
    "        seed_cmb=i,\n",
    "        fg_models=fg_models,\n",
    "        gaussian_smooth=False,\n",
    "        bandpass_int=False,\n",
    "        nside=config.nside,\n",
    "        units=\"uK_CMB\",\n",
    "        maps_in_ecliptic=False,\n",
    "    )\n",
    "    syst.noise_seed = i\n",
    "    for j in range(N):\n",
    "        syst.syst_seed = j\n",
    "        print(f\"CMB seed: {i} | Noise seed {i} | Syst. seed: {j}\")\n",
    "        gain_map, noise_map, input_maps = sbm.sim_diff_gain_per_ch(config, syst, Mbsparams)\n",
    "        pointing_map, noise_map, input_maps = sbm.sim_diff_pointing_per_ch(config, syst, Mbsparams)\n",
    "        gain_maps[i,j] = gain_map\n",
    "        pointing_maps[i,j] = pointing_map\n",
    "        if i == 0:\n",
    "            noise_maps[j] = noise_map"
   ]
  }
 ],
 "metadata": {
  "kernelspec": {
   "display_name": "lbs13",
   "language": "python",
   "name": "python3"
  },
  "language_info": {
   "codemirror_mode": {
    "name": "ipython",
    "version": 3
   },
   "file_extension": ".py",
   "mimetype": "text/x-python",
   "name": "python",
   "nbconvert_exporter": "python",
   "pygments_lexer": "ipython3",
   "version": "3.10.14"
  }
 },
 "nbformat": 4,
 "nbformat_minor": 2
}
