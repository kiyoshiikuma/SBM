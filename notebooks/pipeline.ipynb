{
 "cells": [
  {
   "cell_type": "code",
   "execution_count": 17,
   "metadata": {},
   "outputs": [
    {
     "name": "stdout",
     "output_type": "stream",
     "text": [
      "The autoreload extension is already loaded. To reload it, use:\n",
      "  %reload_ext autoreload\n"
     ]
    }
   ],
   "source": [
    "%load_ext autoreload\n",
    "%autoreload 2\n",
    "import litebird_sim as lbs\n",
    "import numpy as np\n",
    "import healpy as hp\n",
    "import sbm\n",
    "import logging\n",
    "import toml\n",
    "from pathlib import Path\n",
    "logging.basicConfig(level=logging.WARNING);"
   ]
  },
  {
   "cell_type": "code",
   "execution_count": 18,
   "metadata": {},
   "outputs": [],
   "source": [
    "CONFIG_PATH = Path.home() / \".config\" / \"litebird_imo\"\n",
    "CONFIG_FILE_PATH = CONFIG_PATH / \"imo.toml\"\n",
    "tomlinfo = toml.load(CONFIG_FILE_PATH)\n",
    "flatfile_location = tomlinfo[\"repositories\"][0][\"location\"]\n",
    "\n",
    "imo = lbs.Imo(flatfile_location=flatfile_location)"
   ]
  },
  {
   "cell_type": "code",
   "execution_count": 19,
   "metadata": {},
   "outputs": [],
   "source": [
    "channel = sbm.channel_list[0]\n",
    "\n",
    "config = sbm.Configlation(imo, channel)\n",
    "config.mdim = 3\n",
    "config.parallel = True\n",
    "config.nside = 128\n",
    "\n",
    "syst = sbm.Systematics()\n",
    "syst.sigma_gain_t = 0.1\n",
    "syst.sigma_gain_b = 0.1\n",
    "\n",
    "syst.sigma_rho_t = np.deg2rad(1/60)\n",
    "syst.sigma_rho_b = 0.\n",
    "\n",
    "syst.sigma_chi_b = 0.\n",
    "syst.sigma_chi_t = 0.\n"
   ]
  },
  {
   "cell_type": "markdown",
   "metadata": {},
   "source": [
    "Here, we will take a `N` realisations for CMB, systematics variations and noise.\n"
   ]
  },
  {
   "cell_type": "code",
   "execution_count": 25,
   "metadata": {},
   "outputs": [
    {
     "name": "stdout",
     "output_type": "stream",
     "text": [
      "CMB seed:  0  Syst. seed:  0  Noise seed:  0\n"
     ]
    },
    {
     "name": "stderr",
     "output_type": "stream",
     "text": [
      "\u001b[92mProcessing L1-040\u001b[0m: 100%|\u001b[32m██████████\u001b[0m| 24/24 [00:04<00:00,  5.52it/s]\n",
      "\u001b[92mProcessing L1-040\u001b[0m: 100%|\u001b[32m██████████\u001b[0m| 24/24 [00:05<00:00,  4.60it/s]\n"
     ]
    },
    {
     "name": "stdout",
     "output_type": "stream",
     "text": [
      "CMB seed:  0  Syst. seed:  0  Noise seed:  1\n"
     ]
    },
    {
     "name": "stderr",
     "output_type": "stream",
     "text": [
      "\u001b[92mProcessing L1-040\u001b[0m: 100%|\u001b[32m██████████\u001b[0m| 24/24 [00:04<00:00,  5.21it/s]\n",
      "\u001b[92mProcessing L1-040\u001b[0m: 100%|\u001b[32m██████████\u001b[0m| 24/24 [00:04<00:00,  5.48it/s]\n"
     ]
    },
    {
     "name": "stdout",
     "output_type": "stream",
     "text": [
      "CMB seed:  0  Syst. seed:  1  Noise seed:  0\n"
     ]
    },
    {
     "name": "stderr",
     "output_type": "stream",
     "text": [
      "\u001b[92mProcessing L1-040\u001b[0m: 100%|\u001b[32m██████████\u001b[0m| 24/24 [00:04<00:00,  4.86it/s]\n",
      "\u001b[92mProcessing L1-040\u001b[0m: 100%|\u001b[32m██████████\u001b[0m| 24/24 [00:04<00:00,  5.39it/s]\n"
     ]
    },
    {
     "name": "stdout",
     "output_type": "stream",
     "text": [
      "CMB seed:  0  Syst. seed:  1  Noise seed:  1\n"
     ]
    },
    {
     "name": "stderr",
     "output_type": "stream",
     "text": [
      "\u001b[92mProcessing L1-040\u001b[0m: 100%|\u001b[32m██████████\u001b[0m| 24/24 [00:04<00:00,  5.07it/s]\n",
      "\u001b[92mProcessing L1-040\u001b[0m: 100%|\u001b[32m██████████\u001b[0m| 24/24 [00:04<00:00,  4.87it/s]\n"
     ]
    },
    {
     "name": "stdout",
     "output_type": "stream",
     "text": [
      "CMB seed:  1  Syst. seed:  0  Noise seed:  0\n"
     ]
    },
    {
     "name": "stderr",
     "output_type": "stream",
     "text": [
      "\u001b[92mProcessing L1-040\u001b[0m: 100%|\u001b[32m██████████\u001b[0m| 24/24 [00:04<00:00,  5.45it/s]\n",
      "\u001b[92mProcessing L1-040\u001b[0m: 100%|\u001b[32m██████████\u001b[0m| 24/24 [00:04<00:00,  5.15it/s]\n"
     ]
    },
    {
     "name": "stdout",
     "output_type": "stream",
     "text": [
      "CMB seed:  1  Syst. seed:  0  Noise seed:  1\n"
     ]
    },
    {
     "name": "stderr",
     "output_type": "stream",
     "text": [
      "\u001b[92mProcessing L1-040\u001b[0m: 100%|\u001b[32m██████████\u001b[0m| 24/24 [00:04<00:00,  4.88it/s]\n",
      "\u001b[92mProcessing L1-040\u001b[0m: 100%|\u001b[32m██████████\u001b[0m| 24/24 [00:04<00:00,  5.65it/s]\n"
     ]
    },
    {
     "name": "stdout",
     "output_type": "stream",
     "text": [
      "CMB seed:  1  Syst. seed:  1  Noise seed:  0\n"
     ]
    },
    {
     "name": "stderr",
     "output_type": "stream",
     "text": [
      "\u001b[92mProcessing L1-040\u001b[0m: 100%|\u001b[32m██████████\u001b[0m| 24/24 [00:04<00:00,  5.49it/s]\n",
      "\u001b[92mProcessing L1-040\u001b[0m: 100%|\u001b[32m██████████\u001b[0m| 24/24 [00:05<00:00,  4.76it/s]\n"
     ]
    },
    {
     "name": "stdout",
     "output_type": "stream",
     "text": [
      "CMB seed:  1  Syst. seed:  1  Noise seed:  1\n"
     ]
    },
    {
     "name": "stderr",
     "output_type": "stream",
     "text": [
      "\u001b[92mProcessing L1-040\u001b[0m: 100%|\u001b[32m██████████\u001b[0m| 24/24 [00:04<00:00,  4.94it/s]\n",
      "\u001b[92mProcessing L1-040\u001b[0m: 100%|\u001b[32m██████████\u001b[0m| 24/24 [00:04<00:00,  5.43it/s]\n"
     ]
    }
   ],
   "source": [
    "N = 2 # number of realizations\n",
    "npix = hp.nside2npix(config.nside)\n",
    "gain_maps = np.zeros([N,N,N,3,npix]) # [cmb_seed, syst_seed, noise_seed, stokes, npix]\n",
    "pointing_maps = np.zeros([N,N,N,3,npix])\n",
    "noise_maps = np.zeros([N,3,npix])\n",
    "fg_models = [\"pysm_dust_1\", \"pysm_synch_1\"]\n",
    "\n",
    "for i in range(N):\n",
    "    Mbsparams = lbs.MbsParameters(\n",
    "        make_cmb=True,\n",
    "        cmb_r=0.001,\n",
    "        make_fg=True,\n",
    "        seed_cmb=i,\n",
    "        fg_models=fg_models,\n",
    "        gaussian_smooth=False,\n",
    "        bandpass_int=False,\n",
    "        nside=config.nside,\n",
    "        units=\"uK_CMB\",\n",
    "        maps_in_ecliptic=False,\n",
    "    )\n",
    "    for j in range(N):\n",
    "        syst.syst_seed = j\n",
    "        for k in range(N):\n",
    "            syst.noise_seed = k\n",
    "            print(\"CMB seed: \", i, \" Syst. seed: \", j, \" Noise seed: \", k)\n",
    "            gain_map, noise_map, input_maps = sbm.sim_diff_gain_per_ch(config, syst, Mbsparams)\n",
    "            pointing_map, noise_map, input_maps = sbm.sim_diff_pointing_per_ch(config, syst, Mbsparams)\n",
    "            gain_maps[i,j,k] = gain_map\n",
    "            pointing_maps[i,j,k] = pointing_map\n",
    "            if i == 0:\n",
    "                noise_maps[j] = noise_map"
   ]
  },
  {
   "cell_type": "code",
   "execution_count": 30,
   "metadata": {},
   "outputs": [
    {
     "data": {
      "text/plain": [
       "array([[ 6.73777638, -2.67859127, -2.13930331, ..., -4.99552282,\n",
       "         2.74178377,  2.344675  ],\n",
       "       [-7.27326591, -8.92202832, -9.01600881, ...,  3.79908528,\n",
       "        -4.35283216, -4.35176604],\n",
       "       [-0.69612227, -1.23294734,  6.26132003, ..., -0.12677082,\n",
       "         2.62173038,  2.91296621]])"
      ]
     },
     "execution_count": 30,
     "metadata": {},
     "output_type": "execute_result"
    }
   ],
   "source": [
    "noise_map"
   ]
  }
 ],
 "metadata": {
  "kernelspec": {
   "display_name": "lbs_13",
   "language": "python",
   "name": "python3"
  },
  "language_info": {
   "codemirror_mode": {
    "name": "ipython",
    "version": 3
   },
   "file_extension": ".py",
   "mimetype": "text/x-python",
   "name": "python",
   "nbconvert_exporter": "python",
   "pygments_lexer": "ipython3",
   "version": "3.10.14"
  }
 },
 "nbformat": 4,
 "nbformat_minor": 2
}
