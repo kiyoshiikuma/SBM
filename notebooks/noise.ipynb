{
 "cells": [
  {
   "cell_type": "markdown",
   "metadata": {},
   "source": [
    "# Noise map generation\n",
    "\n",
    "We intoroduce the way how to generate noise map after the observation.\n"
   ]
  },
  {
   "cell_type": "code",
   "execution_count": 1,
   "metadata": {},
   "outputs": [
    {
     "ename": "",
     "evalue": "",
     "output_type": "error",
     "traceback": [
      "\u001b[1;31mカーネルを起動できませんでした。 \n",
      "\u001b[1;31mカーネルが停止しました。エラー: ...詳細については、Jupyter [log] (command:jupyter.viewOutput) を参照してください。"
     ]
    }
   ],
   "source": [
    "%load_ext autoreload\n",
    "%autoreload 2\n",
    "import numpy as np\n",
    "import healpy as hp\n",
    "import matplotlib.pyplot as plt\n",
    "from sbm import Field, ScanFields, SignalFields, plot_maps\n",
    "import litebird_sim as lbs"
   ]
  },
  {
   "cell_type": "code",
   "execution_count": 2,
   "metadata": {},
   "outputs": [],
   "source": [
    "# Load single detector map\n",
    "base_path = \"../maps\"\n",
    "scan_field = ScanFields.load_det(\"nside128_boresight\", base_path)"
   ]
  },
  {
   "cell_type": "code",
   "execution_count": 3,
   "metadata": {},
   "outputs": [],
   "source": [
    "# We assume that the noise is white noise, and ssingle detector on the boresight has a NET of 100 uK√s\n",
    "net_ukrts = 100\n",
    "scan_field.generate_noise_pdf(net_ukrts=net_ukrts)\n",
    "mdim = 3\n",
    "seed = 12345\n",
    "# To generate noise map after the scanning, just call the generate_noise method\n",
    "noise_map = scan_field.generate_noise(mdim, seed)"
   ]
  },
  {
   "cell_type": "markdown",
   "metadata": {},
   "source": [
    "Once a hitmap is given, we can calculate the $\\sigma$ of the noise per sky pixel as following:\n",
    "\n",
    "$$\n",
    "\\sigma_T = \\sqrt{\\frac{s f_s}{N_{\\rm hits}}} \\rm{NET}\n",
    "$$\n",
    "\n",
    "$$\n",
    "\\sigma_{Q,U} = \\frac{\\sigma_T}{\\sqrt{2}}\n",
    "$$\n",
    "\n",
    "where $s$ is integer which we call scaling factor.\n",
    "When we simulate differential signal, the `SBM` takes into account only `Top` detectors without adding `Bottom` detectors. So that we have to compensate the statistics given by the hit-map. In this case, to set `s=2` is appropriate.\n",
    "\n",
    "Now, we define the matrix $M$ which appears in a map-making equation.\n",
    "\n",
    "$$\n",
    "M = \\begin{pmatrix}\n",
    "1 & \\frac{1}{2} {}_{-2}\\tilde{h} & \\frac{1}{2} {}_{2}\\tilde{h} \\\\\n",
    "\\frac{1}{2} {}_{2}\\tilde{h} & \\frac{1}{4} & \\frac{1}{4} {}_{4}\\tilde{h} \\\\\n",
    "\\frac{1}{2} {}_{-2}\\tilde{h} & \\frac{1}{4} {}_{-4}\\tilde{h} & \\frac{1}{4}\n",
    "\\end{pmatrix}\n",
    "$$\n",
    "\n",
    "Then, the noise map can be given as follows:\n",
    "\n",
    "$$\n",
    "\\Delta I = G(\\sigma_T)\\sqrt{\\Re[(M^{-1})_{00}]}\n",
    "$$\n",
    "\n",
    "$$\n",
    "\\Delta Q, \\Delta U   = G(\\sigma_P)\\sqrt{\\Re[(M^{-1})_{11}]}\n",
    "$$\n",
    "\n",
    "where $G$ represents the sampling by Gaussian.\n"
   ]
  },
  {
   "cell_type": "code",
   "execution_count": null,
   "metadata": {},
   "outputs": [],
   "source": [
    "plt.figure(figsize=(10,5))\n",
    "hp.mollview(scan_field.noise_pdf[0], sub=(1,3,1), title=r\"$\\sigma_I$\", unit=r\"$\\mu K_{CMB}$\", min=2, max=10)\n",
    "hp.mollview(scan_field.noise_pdf[1], sub=(1,3,2), title=r\"$\\sigma_P$\", unit=r\"$\\mu K_{CMB}$\", min=2, max=10)"
   ]
  },
  {
   "cell_type": "code",
   "execution_count": null,
   "metadata": {},
   "outputs": [],
   "source": [
    "ii = scan_field.covmat_inv[0,0,:].real**2\n",
    "qq = scan_field.covmat_inv[1,1,:].real**2\n",
    "uu = qq\n",
    "stokes_cov = np.array([ii, qq, uu])\n",
    "\n",
    "plt.figure(figsize=(10,5))\n",
    "hp.mollview(stokes_cov[0], sub=(1,3,1), title=r\"$\\langle (\\Delta I^2) \\rangle$\", unit=r\"$\\mu K_{CMB}$\")\n",
    "hp.mollview(stokes_cov[1], sub=(1,3,2), title=r\"$\\langle (\\Delta Q^2) \\rangle$\", unit=r\"$\\mu K_{CMB}$\")\n",
    "hp.mollview(stokes_cov[2], sub=(1,3,3), title=r\"$\\langle (\\Delta U^2) \\rangle$\", unit=r\"$\\mu K_{CMB}$\")"
   ]
  },
  {
   "cell_type": "code",
   "execution_count": null,
   "metadata": {},
   "outputs": [],
   "source": [
    "plt.figure(figsize=(10,5))\n",
    "hp.mollview(noise_map[0], sub=(1,3,1), title=\"Noise $I$\", unit=r\"$\\mu K_{CMB}$\")\n",
    "hp.mollview(noise_map[1], sub=(1,3,2), title=\"Noise $Q$\", unit=r\"$\\mu K_{CMB}$\")\n",
    "hp.mollview(noise_map[2], sub=(1,3,3), title=\"Noise $U$\", unit=r\"$\\mu K_{CMB}$\")"
   ]
  },
  {
   "cell_type": "code",
   "execution_count": 24,
   "metadata": {},
   "outputs": [],
   "source": [
    "N = 100\n",
    "noise_maps = [scan_field.generate_noise(mdim, i) for i in range(N)]\n",
    "nls = np.array([hp.anafast(noise_maps[i]) for i in range(N)])\n",
    "nls_realized = nls.mean(0)"
   ]
  },
  {
   "cell_type": "code",
   "execution_count": null,
   "metadata": {},
   "outputs": [],
   "source": [
    "for i in range(N):\n",
    "    plt.loglog(nls[i][2], color=\"gray\", alpha=0.5)\n",
    "\n",
    "plt.loglog(nls_realized[2], label=r\"$\\langle N_\\ell^{BB} \\rangle$\", color=\"black\")\n",
    "plt.legend();"
   ]
  }
 ],
 "metadata": {
  "kernelspec": {
   "display_name": "lbs13",
   "language": "python",
   "name": "python3"
  },
  "language_info": {
   "codemirror_mode": {
    "name": "ipython",
    "version": 3
   },
   "file_extension": ".py",
   "mimetype": "text/x-python",
   "name": "python",
   "nbconvert_exporter": "python",
   "pygments_lexer": "ipython3",
   "version": "3.10.14"
  }
 },
 "nbformat": 4,
 "nbformat_minor": 2
}
